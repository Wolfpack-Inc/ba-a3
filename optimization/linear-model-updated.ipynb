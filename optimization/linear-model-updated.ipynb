{
 "cells": [
  {
   "cell_type": "markdown",
   "metadata": {},
   "source": [
    "#### Parameters\n",
    "- The set of engines that needs maintenance is $M = {1,2,...j}$\n",
    "- The planning horizon is $T = {1,2,...,t}$\n",
    "- The available groups are $G = {1,2,..g}$\n",
    "- The number of working days of  team g on engine j is $\\mu_{g,j}$\n",
    "- Let $P_{g,j,t}$ be the penalty if team $g$ starts working on engine $j$ from day $t$\n",
    "- Let $Q_j$ be the cost of engine $j$ if the maintenance is not done during the planning horizon $T$ \n",
    "\n",
    "#### Objective function \n",
    "$min$  $Z = \\sum_{j=1}^{M} \\sum_{g=1}^{G} \\sum_{t=1}^{T} P_{g,j,t}* X_{g,j,t} + \\sum_{j=1}^{M} (( 1 - \\sum_{g=1}^{G} \\sum_{t=1}^{T} X_{g,j,t}) * Q_j)$\n",
    "\n",
    "#### Decision Variable\n",
    "\\begin{equation}\n",
    "  X_{g,j,t} = \\left \\{\n",
    "  \\begin{aligned}\n",
    "    &1, && \\text{if team g starts working on engine j at day t}\\  \\\\\n",
    "    &0, && \\text{otherwise}\n",
    "  \\end{aligned} \\right.\n",
    "\\end{equation} \n",
    "\n",
    "#### Constraints \n",
    "##### Maintenance of engine j can be performed at most once during the planning period\n",
    "$\\sum_{g=1}^{G} \\sum_{t=1}^{T} X_{g,j,t}\\leq 1$ for all $j \\in M$\n",
    "\n",
    "##### Maintenance must be completed within the planning period\n",
    "$\\sum_{g=1}^{G} \\sum_{t=1}^{T} X_{g,j,t} * (t + \\mu_{g,j} -1) \\leq T$ for all $j \\in M$\n",
    "\n",
    "##### Teams can only work on one engine at a time\n",
    "$\\sum_{j=1}^{M} \\sum_{t=t_a+1}^{min \\{ T,t + \\mu_{g,j_a} -1\\}} X_{g,j,t} \\leq X_{g,j_a,t_a} + (1 - X_{g,j_a,t_a}) * len(M)$ for all $g \\in G, t_a \\in T, j_a \\in M$\n",
    "\n",
    "##### Max-engine constraint \n",
    "$\\sum_{j=1}^{M} \\sum_{t=1}^{T} X_{g,j,t} \\leq K_h^g $ for all  $g \\in G$\n",
    "\n",
    "##### Regional constraint\n",
    "$\\sum_{t=1}^{T} X_{g,j,t} * L_j = \\sum_{t=1}^{T} X_{g,j,t} * R_g $ for all  $g \\in G, j \\in M$"
   ]
  },
  {
   "cell_type": "markdown",
   "metadata": {},
   "source": [
    "### 1. Linear model"
   ]
  },
  {
   "cell_type": "code",
   "execution_count": 1,
   "metadata": {},
   "outputs": [],
   "source": [
    "# Global imports\n",
    "import pandas as pd\n",
    "from pulp import *\n",
    "#from pulp import solvers as pulp_solver_classes"
   ]
  },
  {
   "cell_type": "code",
   "execution_count": 2,
   "metadata": {},
   "outputs": [],
   "source": [
    "df = pd.read_csv('../data/RUL_consultancy_predictions_A3.csv', sep=';', index_col='id')"
   ]
  },
  {
   "cell_type": "code",
   "execution_count": 30,
   "metadata": {},
   "outputs": [],
   "source": [
    "def create_variables(df, T):\n",
    "    def get_penalty(g, j, t):\n",
    "        '''\n",
    "        Calculates penalty if team g starts working on engine j at day t\n",
    "        '''\n",
    "        RUL = df.loc[j].values[0]\n",
    "        c_per_day = c[j]\n",
    "        nr_days_costs = t - RUL + mu[g][j] - 1 # CHECK IF THIS IS CORRECT OR SHOULD BE - (RUL + 1)\n",
    "\n",
    "        if nr_days_costs > 0:\n",
    "            costs = nr_days_costs * c_per_day\n",
    "            return costs\n",
    "        else:\n",
    "            return 0\n",
    "\n",
    "    def get_unmaintained_penalty(j, T):\n",
    "        '''\n",
    "        Calculates cost of engine j if the maintenance is not done during the planning horizon T \n",
    "        '''\n",
    "        RUL = df.loc[j].values[0]\n",
    "        c_per_day = c[j]\n",
    "        nr_days_costs = T - RUL # CHECK IF THIS IS CORRECT OR SHOULD BE - (RUL + 1)\n",
    "\n",
    "        if nr_days_costs > 0:\n",
    "            costs = nr_days_costs * c_per_day\n",
    "            return costs\n",
    "        else: return 0\n",
    "\n",
    "    # List with engine IDs\n",
    "    M = list(df[df['RUL'] <= T].index)\n",
    "\n",
    "    # Dictionary with team types\n",
    "    G = {1: 'A', 2: 'A', 3: 'B', 4: 'B'}\n",
    "    \n",
    "    # \n",
    "    k = {g: 2 if G[g] == 'A' else 2 for g in G.keys()}\n",
    "\n",
    "    # Dictionary with cost per day for each engine if it is not working\n",
    "    c = {i:5 for i in range(1,21)}\n",
    "    c.update({i:7 for i in range(21,41)})\n",
    "    c.update({i:9 for i in range(41,61)})\n",
    "    c.update({i:5 for i in range(61,81)})\n",
    "    c.update({i:3 for i in range(81,101)})\n",
    "\n",
    "    # Dictionary with maintenance duration for each engine for teams of type A\n",
    "    mu_a = {i:4 for i in range(1,26)}\n",
    "    mu_a.update({i:6 for i in range(26,51)})\n",
    "    mu_a.update({i:3 for i in range(51,76)})\n",
    "    mu_a.update({i:5 for i in range(76,101)})\n",
    "    \n",
    "    # Dictionary with maintenance duration for each engine for teams of type B\n",
    "    mu_b = {i:mu_a[i]+1 for i in range(1,34)}\n",
    "    mu_b.update({i:mu_a[i]+2 for i in range(34,68)})\n",
    "    mu_b.update({i:mu_a[i]+1 for i in range(68,101)})\n",
    "\n",
    "    # Single look-up dictionary to find the maintenance duration for a team (g) and engine (j)\n",
    "    mu = {g: {j: mu_a[j] if typ=='A' else mu_b[j] for j in M} for g, typ in G.items()}\n",
    "\n",
    "    # Dictionary that holds the cost for all possible team, engine, day combinations\n",
    "    P = {g:{j:{t: get_penalty(g,j,t) for t in range(1, T+1)} for j in M} for g in G}\n",
    "    \n",
    "    # Dictionary that holds the cost for an engine if is not maintained during the planning period\n",
    "    Q = {j: get_unmaintained_penalty(j, T) for j in M}\n",
    "    \n",
    "    #\n",
    "    L = {j: 1 if j < 34 else 2 for j in M}\n",
    "    \n",
    "    #\n",
    "    R = {g: 1 if g in [1,3] else 2 for g in G}\n",
    "    \n",
    "    return M, G, k, c, mu, P, Q, L, R\n",
    "\n",
    "M, G, k, c, mu, P, Q, L, R = create_variables(df, T=25)"
   ]
  },
  {
   "cell_type": "markdown",
   "metadata": {},
   "source": [
    "### Pulp Model"
   ]
  },
  {
   "cell_type": "code",
   "execution_count": 42,
   "metadata": {},
   "outputs": [],
   "source": [
    "def create_model(task, T, M=M, G=G, k=k, c=c, mu=mu, P=P, Q=Q, L=L, R=R):\n",
    "    \"\"\"\n",
    "    Creates model\n",
    "    \"\"\"\n",
    "    \n",
    "    # Create the model\n",
    "    model = LpProblem(name='maintenance-schedule-optimization-2', sense=LpMinimize)\n",
    "\n",
    "    team_engine_day = [(g, j, t) for g in G for j in M for t in range(1, T+1)]\n",
    "\n",
    "    # Set LpVariable parameters\n",
    "    # Natural constraints included\n",
    "    X = LpVariable.dicts(name='start_day', indexs=team_engine_day, cat='Binary')\n",
    "\n",
    "    # Add objective function\n",
    "    model += lpSum(P[g][j][t] * X[(g, j, t)] for g in G for j in M for t in range(1, T+1)) + \\\n",
    "     lpSum((1 - (lpSum(X[(g, j, t)] for g in G for t in range(1, T+1)))) * Q[j] for j in M)\n",
    "\n",
    "    # Add constraints\n",
    "    # Maintenance for each engine at most once during planning horizon\n",
    "    for j in M:\n",
    "        model += lpSum(X[(g, j, t)] for g in G for t in range(1, T+1)) <= 1\n",
    "\n",
    "    # Maintenance must be completed within the planning period\n",
    "    for j in M:\n",
    "        model += lpSum(X[(g, j, t)] * (t + mu[g][j] - 1) for g in G for t in range(1, T+1)) <= T\n",
    "    \n",
    "    # Team can only work on one engine at a time\n",
    "    for g in G:\n",
    "        for t_a in range(1, T+1):\n",
    "            for j_a in M:\n",
    "                model += lpSum(X[(g, j, t)] for j in M for t in range(t_a, min(T, t_a + mu[g][j_a]))) <= (1 * X[(g, j_a, t_a)]) + (1 - X[(g, j_a, t_a)] ) * len(M)\n",
    "    \n",
    "    if task >= 2:\n",
    "        for g in G:\n",
    "            model += lpSum(X[(g, j, t)] for j in M for t in range(1, T+1)) <= k[g]\n",
    "    \n",
    "    if task == 3:\n",
    "        for g in G:\n",
    "            for j in M:\n",
    "                model += lpSum(X[(g, j, t)] for t in range(1, T+1)) * L[j] == lpSum(X[(g, j, t)] for t in range(1, T+1)) * R[g]\n",
    "            \n",
    "    \n",
    "            \n",
    "    return model\n"
   ]
  },
  {
   "cell_type": "code",
   "execution_count": 59,
   "metadata": {},
   "outputs": [],
   "source": [
    "model_3 = create_model(task=3, T=25)"
   ]
  },
  {
   "cell_type": "code",
   "execution_count": 60,
   "metadata": {},
   "outputs": [],
   "source": [
    "# model.writeLP(\"maintenance.lp\");"
   ]
  },
  {
   "cell_type": "code",
   "execution_count": 61,
   "metadata": {},
   "outputs": [],
   "source": [
    "def results_lp(model):\n",
    "    #Print the status of solving\n",
    "    print(\"Status = %s\" % LpStatus[model.status])\n",
    "    # Print the value of the objective\n",
    "    print(\"Objective = %f\" % value(model.objective))\n",
    "\n",
    "    #Print the value of the variables when value > 0 \n",
    "    for v in model.variables():\n",
    "        if v.varValue != None and v.varValue > 0:\n",
    "            print(v.name, \"=\", v.varValue)"
   ]
  },
  {
   "cell_type": "code",
   "execution_count": 62,
   "metadata": {},
   "outputs": [
    {
     "data": {
      "text/plain": [
       "1"
      ]
     },
     "execution_count": 62,
     "metadata": {},
     "output_type": "execute_result"
    }
   ],
   "source": [
    "model_3.solve()"
   ]
  },
  {
   "cell_type": "code",
   "execution_count": 63,
   "metadata": {},
   "outputs": [
    {
     "name": "stdout",
     "output_type": "stream",
     "text": [
      "Status: Optimal\n"
     ]
    }
   ],
   "source": [
    "print(\"Status:\", LpStatus[model_3.status])"
   ]
  },
  {
   "cell_type": "code",
   "execution_count": 48,
   "metadata": {},
   "outputs": [
    {
     "name": "stdout",
     "output_type": "stream",
     "text": [
      "Status = Optimal\n",
      "Objective = 459.000000\n",
      "start_day_(1,_31,_3) = 1.0\n",
      "start_day_(2,_35,_1) = 1.0\n",
      "start_day_(2,_42,_8) = 1.0\n",
      "start_day_(3,_20,_6) = 1.0\n",
      "start_day_(4,_34,_1) = 1.0\n",
      "start_day_(4,_49,_9) = 1.0\n"
     ]
    }
   ],
   "source": [
    "results_lp(model_3)"
   ]
  },
  {
   "cell_type": "code",
   "execution_count": 25,
   "metadata": {},
   "outputs": [
    {
     "name": "stdout",
     "output_type": "stream",
     "text": [
      "Status = Optimal\n",
      "Objective = 278.000000\n",
      "start_day_(1,_34,_3) = 1.0\n",
      "start_day_(1,_49,_9) = 1.0\n",
      "start_day_(2,_42,_7) = 1.0\n",
      "start_day_(2,_76,_1) = 1.0\n",
      "start_day_(3,_35,_1) = 1.0\n",
      "start_day_(3,_56,_13) = 1.0\n",
      "start_day_(4,_20,_1) = 1.0\n",
      "start_day_(4,_31,_7) = 1.0\n"
     ]
    }
   ],
   "source": [
    "results_lp(model_2)"
   ]
  },
  {
   "cell_type": "code",
   "execution_count": 10,
   "metadata": {},
   "outputs": [
    {
     "name": "stdout",
     "output_type": "stream",
     "text": [
      "Status = Optimal\n",
      "Objective = 79.000000\n",
      "start_day_(1,_41,_18) = 1.0\n",
      "start_day_(1,_49,_9) = 1.0\n",
      "start_day_(1,_66,_15) = 1.0\n",
      "start_day_(1,_68,_6) = 1.0\n",
      "start_day_(1,_76,_1) = 1.0\n",
      "start_day_(2,_34,_3) = 1.0\n",
      "start_day_(2,_37,_16) = 1.0\n",
      "start_day_(2,_42,_9) = 1.0\n",
      "start_day_(2,_64,_22) = 1.0\n",
      "start_day_(3,_20,_10) = 1.0\n",
      "start_day_(3,_35,_1) = 1.0\n",
      "start_day_(3,_82,_15) = 1.0\n",
      "start_day_(4,_31,_7) = 1.0\n",
      "start_day_(4,_56,_14) = 1.0\n",
      "start_day_(4,_61,_19) = 1.0\n",
      "start_day_(4,_81,_1) = 1.0\n"
     ]
    },
    {
     "data": {
      "text/plain": [
       "[41, 49, 66, 68, 76, 34, 37, 42, 64, 20, 35, 82, 31, 56, 61, 81]"
      ]
     },
     "execution_count": 10,
     "metadata": {},
     "output_type": "execute_result"
    }
   ],
   "source": [
    "model.solve(pulp_solver_classes.PULP_CBC_CMD(maxSeconds=60*60*4))\n",
    "results_lp(model)"
   ]
  },
  {
   "cell_type": "code",
   "execution_count": 11,
   "metadata": {},
   "outputs": [
    {
     "name": "stdout",
     "output_type": "stream",
     "text": [
      "Status = Optimal\n",
      "Objective = 44.000000\n",
      "start_day_(1,_34,_1) = 1.0\n",
      "start_day_(1,_36,_19) = 1.0\n",
      "start_day_(1,_42,_7) = 1.0\n",
      "start_day_(1,_56,_16) = 1.0\n",
      "start_day_(1,_68,_13) = 1.0\n",
      "start_day_(2,_20,_6) = 1.0\n",
      "start_day_(2,_37,_16) = 1.0\n",
      "start_day_(2,_49,_10) = 1.0\n",
      "start_day_(2,_64,_22) = 1.0\n",
      "start_day_(2,_76,_1) = 1.0\n",
      "start_day_(3,_31,_7) = 1.0\n",
      "start_day_(3,_61,_19) = 1.0\n",
      "start_day_(3,_66,_14) = 1.0\n",
      "start_day_(3,_81,_1) = 1.0\n",
      "start_day_(4,_35,_1) = 1.0\n",
      "start_day_(4,_41,_15) = 1.0\n",
      "start_day_(4,_82,_9) = 1.0\n"
     ]
    },
    {
     "data": {
      "text/plain": [
       "[34, 36, 42, 56, 68, 20, 37, 49, 64, 76, 31, 61, 66, 81, 35, 41, 82]"
      ]
     },
     "execution_count": 11,
     "metadata": {},
     "output_type": "execute_result"
    }
   ],
   "source": [
    "model.solve(pulp_solver_classes.PULP_CBC_CMD(maxSeconds=60*60*8))\n",
    "results_lp(model)"
   ]
  },
  {
   "cell_type": "code",
   "execution_count": null,
   "metadata": {},
   "outputs": [],
   "source": []
  },
  {
   "cell_type": "code",
   "execution_count": null,
   "metadata": {},
   "outputs": [],
   "source": []
  },
  {
   "cell_type": "code",
   "execution_count": null,
   "metadata": {},
   "outputs": [],
   "source": []
  },
  {
   "cell_type": "markdown",
   "metadata": {},
   "source": [
    "## Optimization Task 2"
   ]
  },
  {
   "cell_type": "markdown",
   "metadata": {},
   "source": [
    "#### Parameters\n",
    "- The set of engines that needs maintenance is $M = {1,2,...j}$\n",
    "- The planning horizon is $T = {1,2,...,t}$\n",
    "- The available groups are $G = {1,2,..g}$\n",
    "- The number of working days of  team g on engine j is $\\mu_{g,j}$\n",
    "- Let $P_{g,j,t}$ be the penalty if team $g$ starts working on engine $j$ from day $t$\n",
    "- Let $Q_j$ be the cost of engine $j$ if the maintenance is not done during the planning horizon $T$ \n",
    "\n",
    "#### Objective function \n",
    "$min$  $Z = \\sum_{j=1}^{M} \\sum_{g=1}^{G} \\sum_{t=1}^{T} P_{g,j,t}* X_{g,j,t} + \\sum_{j=1}^{M} (( 1 - \\sum_{g=1}^{G} \\sum_{t=1}^{T} X_{g,j,t}) * Q_j)$\n",
    "\n",
    "#### Decision Variable\n",
    "\\begin{equation}\n",
    "  X_{g,j,t} = \\left \\{\n",
    "  \\begin{aligned}\n",
    "    &1, && \\text{if team g starts working on engine j at day t}\\  \\\\\n",
    "    &0, && \\text{otherwise}\n",
    "  \\end{aligned} \\right.\n",
    "\\end{equation} \n",
    "\n",
    "#### Constraints \n",
    "##### Maintenance of engine j can be performed at most once during the planning period\n",
    "$\\sum_{g=1}^{G} \\sum_{t=1}^{T} X_{g,j,t}\\leq 1$ for all $j \\in M$\n",
    "\n",
    "##### Maintenance must be completed within the planning period\n",
    "$\\sum_{g=1}^{G} \\sum_{t=1}^{T} X_{g,j,t} * (t + \\mu_{g,j} -1) \\leq T$ for all $j \\in M$\n",
    "\n",
    "##### Teams can only work on one engine at a time\n",
    "$\\sum_{j=1}^{M} \\sum_{t=t_a+1}^{min \\{ T,t + \\mu_{g,j_a} -1\\}} X_{g,j,t} \\leq X_{g,j_a,t_a} + (1 - X_{g,j_a,t_a}) * len(M)$ for all $g \\in G, t_a \\in T, j_a \\in M$\n",
    "\n",
    "##### Max-engine constraint \n",
    "$\\sum_{j=1}^{M} \\sum_{t=1}^{T} X_{g,j,t} \\leq K_h^g $ for all  $g \\in G$"
   ]
  }
 ],
 "metadata": {
  "kernelspec": {
   "display_name": "Python 3",
   "language": "python",
   "name": "python3"
  },
  "language_info": {
   "codemirror_mode": {
    "name": "ipython",
    "version": 3
   },
   "file_extension": ".py",
   "mimetype": "text/x-python",
   "name": "python",
   "nbconvert_exporter": "python",
   "pygments_lexer": "ipython3",
   "version": "3.7.6"
  }
 },
 "nbformat": 4,
 "nbformat_minor": 4
}
