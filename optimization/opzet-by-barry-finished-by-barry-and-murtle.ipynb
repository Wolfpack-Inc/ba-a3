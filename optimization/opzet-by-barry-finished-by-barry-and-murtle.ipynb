{
 "cells": [
  {
   "cell_type": "code",
   "execution_count": 1,
   "metadata": {},
   "outputs": [
    {
     "data": {
      "text/html": [
       "<style>\n",
       "table {float:left}\n",
       "</style>\n"
      ],
      "text/plain": [
       "<IPython.core.display.HTML object>"
      ]
     },
     "metadata": {},
     "output_type": "display_data"
    }
   ],
   "source": [
    "%%html\n",
    "<style>\n",
    "table {float:left}\n",
    "</style>"
   ]
  },
  {
   "cell_type": "markdown",
   "metadata": {},
   "source": [
    "### Prediction Task - Part A"
   ]
  },
  {
   "cell_type": "markdown",
   "metadata": {},
   "source": [
    "##### Insert Paulo's & Jules' stuff"
   ]
  },
  {
   "cell_type": "markdown",
   "metadata": {},
   "source": [
    "### Prediction Task - Part B <a id='Prediction-Task-Part-B'></a>"
   ]
  },
  {
   "cell_type": "markdown",
   "metadata": {},
   "source": [
    "##### Insert Paulo's & Jules' stuff\n",
    "\n",
    "--------------------------"
   ]
  },
  {
   "cell_type": "markdown",
   "metadata": {},
   "source": [
    "### Optimization Task 1 - Part A <a id='Task-1-Part-A'></a>"
   ]
  },
  {
   "cell_type": "markdown",
   "metadata": {},
   "source": [
    "The goal is to develop a maintance schedule for the engines for the consultancy and the prediction dataset. In optimization task 1 company X is going to allocate teams to different engines in order to perform maintance.  We can assume, we are currently at day t = 1 and company X wants to allocate teams to engines in order to minimize penalty costs for a planning horizon T. \n",
    "\n",
    "#### Parameters\n",
    "Based on the given task, we define the following parameters: \n",
    "- The set of engines that needs maintenance is $M = {1,2,...j}$\n",
    "- The planning horizon is $T = {1,2,...,t}$\n",
    "- The available working teams are $G = {1,2,..g}$\n",
    "- The Remaing Useful Time (RUL) for each engine is $RUL_j$ \n",
    "- The number of required working days of team g on engine j is $\\mu_{g,j}$\n",
    "- The daily penalty cost of a engine j is $c_j$ \n",
    "- Let $s_{g,j,t}$ be the saving of costs if team $g$ starts working on engine $j$ from day $t$\n",
    "\n",
    "#### Decision Variables\n",
    "\n",
    "\\begin{equation}\n",
    "  X_{g,j,t} = \\left \\{\n",
    "  \\begin{aligned}\n",
    "    &1, && \\text{if team g starts working on engine j at day t}\\  \\\\\n",
    "    &0, && \\text{otherwise}\n",
    "  \\end{aligned} \\right.\n",
    "\\end{equation} \n",
    "\n",
    "#### Objective Function\n",
    "The goal is to minimize the penalty costs for a planning horizon $T$. Within the planning horizon we can distinguish between one of two scenarios for each engine: \n",
    "1. engine $j$ _is_ maintained starting from day $t$ by team $g$: costs for this engine are $P_{g,j,t}$ = $\\sum_{RUL_j+1}^{t+\\mu_{g,j}-1} c_j$\n",
    "\n",
    "2. engine $j$ _is not_ maintained: costs for engine $j$ are $Q_j = \\sum_{RUL_j+1}^T c_j$\n",
    "\n",
    "From $P_{g,j,t}$ and $Q_j$ we can calculate the potential savings ($s_{g,j,t}$) when team $g$ starts maintenance on engine $j$ on day $t$ with the following operation: $Q_j$ - $P_{g,j,t}$.\n",
    "\n",
    "Minimizing the cost will give us the following function: \n",
    "\n",
    "$Min$ $Y = \\sum_{j=1}^{M} Q_j - \\sum_{j=1}^{M} \\sum_{g=1}^{G} \\sum_{t=1}^{T} s_{g,j,t}* X_{g,j,t}$\n",
    "\n",
    "The total costs ($\\sum_{j=1}^{M} Q_j$) given no maintance, will be the same regardless the decision variables. Therefore we can transform this problem from minimizing the cost to maximizing the total savings, which gives us the following objective function:\n",
    "\n",
    "$Max$  $Z = \\sum_{j=1}^{M} \\sum_{g=1}^{G} \\sum_{t=1}^{T} s_{g,j,t}* X_{g,j,t} $\n",
    "\n",
    "#### Constraints\n",
    "##### Constraint 1\n",
    "The maintenance of engine $j$ can be performed at most once during the planning period. \n",
    " \n",
    "$\\sum_{g=1}^{G} \\sum_{t=1}^{T} X_{g,j,t}\\leq 1$ for all $j \\in M$\n",
    "\n",
    "\n",
    "##### Constraint 2\n",
    "The maintenance must be completed within the planning period. Therefore we have to make sure the maintenance for all engines that are maintained is finished on day $T$ at the latest.\n",
    "\n",
    "$\\sum_{g=1}^{G} \\sum_{t=1}^{T} X_{g,j,t} * (t + \\mu_{g,j} -1) \\leq T$ for all $j \\in M$"
   ]
  },
  {
   "cell_type": "markdown",
   "metadata": {},
   "source": [
    "##### Constraint 3\n",
    "Teams can only start working on one engine a day.\n",
    "\n",
    "$\\sum_{j=1}^{M} X_{g,j,t} \\leq 1$ for all $t \\in T$,$g \\in G$"
   ]
  },
  {
   "cell_type": "markdown",
   "metadata": {},
   "source": [
    "##### Constraint 4 \n",
    "Teams are not allowed to work on multiple engines simultaneously. Constraint 3 already makes sure that a team does not start two engines on the same day. Additionally, we make sure a team does not start working on any other engines while working on engine $j$.\n",
    "\n",
    "$\\lVert M\\rVert * X_{g,j_a,t_a} + \\sum_{j=1}^{M} \\sum_{t=t_a+1}^{min \\{ T,t + \\mu_{g,j_a} -1\\}} X_{g,j,t} \\leq \\lVert M\\rVert$ for all $g \\in G, t_a \\in T, j_a \\in M$"
   ]
  },
  {
   "cell_type": "markdown",
   "metadata": {},
   "source": [
    "### Optimization Task 1 - Part B <a id='Task-1-Part-B'></a>"
   ]
  },
  {
   "cell_type": "markdown",
   "metadata": {},
   "source": [
    "For this optimization task we are assuming a time horizon $T = 20$. Furthermore, the decision variables, objective function, constraints and parameters have been defined in the previous section ([Optimization Task 1 - Part A](#Task-1-Part-A)). \n",
    "\n",
    "Solving this optimization problem with the RUL predictions from the [Prediction Task - Part B](#Prediction-Task-Part-B) gave the following results."
   ]
  },
  {
   "cell_type": "markdown",
   "metadata": {},
   "source": [
    "_Maintenance schedule:_\n",
    "\n",
    "|   engine |   team | team_type   |   start_day |   end_day |   penalty_costs |\n",
    "|---------:|-------:|:------------|------------:|----------:|----------------:|\n",
    "|       34 |      1 | A           |           1 |         6 |               0 |\n",
    "|       68 |      1 | A           |           7 |         9 |               0 |\n",
    "|       82 |      1 | A           |          10 |        14 |               0 |\n",
    "|       66 |      1 | A           |          15 |        17 |               0 |\n",
    "|       76 |      2 | A           |           1 |         5 |               0 |\n",
    "|       35 |      2 | A           |           6 |        11 |               0 |\n",
    "|       36 |      2 | A           |          12 |        17 |               0 |\n",
    "|       81 |      3 | B           |           1 |         6 |               0 |\n",
    "|       42 |      3 | B           |           9 |        16 |               0 |\n",
    "|       31 |      4 | B           |           1 |         7 |               0 |\n",
    "|       20 |      4 | B           |           9 |        13 |               0 |"
   ]
  },
  {
   "cell_type": "markdown",
   "metadata": {},
   "source": [
    "_Total penalty costs:_ 0"
   ]
  },
  {
   "cell_type": "markdown",
   "metadata": {},
   "source": [
    "__Discussion__:\n",
    "\n",
    "Given a planning horizon $T = 20$, we see that in our maintenance schedule all the engines with a RUL $\\leq 20$ are maintained within the horizon. On top of this, none of the engines incurred any penalty costs. As result the penalty costs associated with the entire schedule is zero. Hence, we can be certain that we have found the optimal solution, which was also confirmed by the PulP solver.\n",
    "\n",
    "---------------------------------------------"
   ]
  },
  {
   "cell_type": "markdown",
   "metadata": {},
   "source": [
    "### Optimization Task 1 - Part C"
   ]
  },
  {
   "cell_type": "markdown",
   "metadata": {},
   "source": [
    "For this optimization task we are again assuming a time horizon $T = 20$. Moreover, the decision variables, objective function, constraints and parameters remain unchanged (see: [Optimization Task 1 - Part A](#Task-1-Part-A)). \n",
    "\n",
    "However, for this optimization problem we will be using the predictions of the consultancy company. Below we display and discuss the results."
   ]
  },
  {
   "cell_type": "markdown",
   "metadata": {},
   "source": [
    "_Maintenance schedule:_\n",
    "\n",
    "|   engine |   team | team_type   |   start_day |   end_day |   penalty_costs |\n",
    "|---------:|-------:|:------------|------------:|----------:|----------------:|\n",
    "|       34 |      1 | A           |           1 |         6 |               0 |\n",
    "|       42 |      1 | A           |           7 |        12 |               0 |\n",
    "|       82 |      1 | A           |          13 |        17 |              18 |\n",
    "|       35 |      2 | A           |           1 |         6 |               0 |\n",
    "|       20 |      2 | A           |           7 |        10 |               0 |\n",
    "|       68 |      2 | A           |          11 |        13 |               0 |\n",
    "|       56 |      2 | A           |          16 |        18 |               0 |\n",
    "|       76 |      3 | B           |           1 |         6 |              15 |\n",
    "|       49 |      3 | B           |           7 |        14 |               0 |\n",
    "|       81 |      4 | B           |           1 |         6 |               0 |\n",
    "|       31 |      4 | B           |           7 |        13 |               0 |\n",
    "|       66 |      4 | B           |          14 |        18 |               0 |"
   ]
  },
  {
   "cell_type": "markdown",
   "metadata": {},
   "source": [
    "_Total penalty cost:_ 33"
   ]
  },
  {
   "cell_type": "markdown",
   "metadata": {},
   "source": [
    "__Discussion:__\n",
    "\n",
    "Similar to the maintenance schedule from [Optimization Task 1 - Part B](#Task-1-Part-B) we see that all the engines are assigned to a team and maintained within the planning horizon $T = 20$. Despite maintaining all the engines with a RUL $\\leq 20$, there are penalty costs incurred for engine $82$ and $76$. Overall, in this scenario (using the consultancy company's predictions) the total penalty costs of the maintenance schedule is 33, whereas our own predictions gave 0 penalty costs.\n",
    "\n",
    "These different results can be explained by the predicted RUL for the engines. First of all, for our predictions there are only 11 engines that have a RUL $\\leq 20$ whereas the consultancy predictions contains 12 engines with a RUL $\\leq 20$. Hence, the scheduling problem using the consultancy predictions is already more difficult as the teams are supposed to maintain more engines within the same planning horizon.\n",
    "\n",
    "Futhermore, for the engines that were included in the planning horizon $T = 20$, the RUL predictions by the consultany company are smaller than our RUL predictions. Again, this makes the problem scheduling problem more difficult using the consultancy company's predictions as teams have less time to avoid penalty costs for engines.\n",
    "\n",
    "Despite being a more difficult optimization problem by using the consultancy company's predictions, PuLP still found an optimial solution.\n",
    "\n",
    "------------------------"
   ]
  },
  {
   "cell_type": "markdown",
   "metadata": {},
   "source": [
    "### Optimization Task 2 - Part A <a id='Task-2-Part-A'></a>\n",
    "\n",
    "For this optimization task we extend the formulation of the optimization problem defined earlier (see: [Optimization Task 1 - Part A](#Task-1-Part-A)).\n",
    "\n",
    "We add an additional constraint that limits the number of engines a team is allowed to work on during the planning horizon. To include this constraint in our problem formulation we define a new parameter $k_{h}^g$ that holds how many engines team $g$ is allowed to work on during a planning horizon of lenght $h$. This constraint is referred to as the _max-engine constraint_ can be formulated as follows:\n",
    "\n",
    "$\\sum_{j=1}^{M} \\sum_{t=1}^{T} X_{g,j,t} \\leq k_h^g $ for all  $g \\in G$\n",
    "\n",
    "-------------------"
   ]
  },
  {
   "cell_type": "markdown",
   "metadata": {},
   "source": [
    "### Optimization Task 2 - Part B <a id='Task-2-Part-B'></a>"
   ]
  },
  {
   "cell_type": "markdown",
   "metadata": {},
   "source": [
    "For this optimization task we are assuming a time horizon $T = 20$ and using the RUL predictions from [Prediction Task - Part B](#Prediction-Task-Part-B). In addition to the constraints used for [Optimization Task 1](#Task-1-Part-A), we also include the _max-engine constraint_ as defined in [Optimization Task 2 - Part A](#Task-2-Part-A). Furthermore, we assume the following values for $k_h^g$: $k_{20}^A = 2$ and $ k_{20}^B = 2$. This gave the following results:"
   ]
  },
  {
   "cell_type": "markdown",
   "metadata": {},
   "source": [
    "_Maintenance schedule:_\n",
    "\n",
    "|   engine |   team | team_type   |   start_day |   end_day |   penalty_costs |\n",
    "|---------:|-------:|:------------|------------:|----------:|----------------:|\n",
    "|       68 |      1 | A           |           2 |         4 |               0 |\n",
    "|       31 |      1 | A           |           5 |        10 |               0 |\n",
    "|       81 |      2 | A           |           1 |         5 |               0 |\n",
    "|       35 |      2 | A           |           6 |        11 |               0 |\n",
    "|       76 |      3 | B           |           1 |         6 |               0 |\n",
    "|       20 |      3 | B           |          11 |        15 |               0 |\n",
    "|       34 |      4 | B           |           1 |         8 |               0 |\n",
    "|       42 |      4 | B           |           9 |        16 |               0 |\n",
    "|       36 |      - |    -        |           - |         - |              14 |\n",
    "|       66 |      - |    -        |           - |         - |              15 |\n",
    "|       82 |      - |    -        |           - |         - |               9 |"
   ]
  },
  {
   "cell_type": "markdown",
   "metadata": {},
   "source": [
    "_Total penalty costs:_ 38"
   ]
  },
  {
   "cell_type": "markdown",
   "metadata": {},
   "source": [
    "__Discussion:__\n",
    "\n",
    "With the additional _max-engine constraint_ we see that we are no longer able to maintain all the engines with a RUL $\\leq 20$ within the planning horizon $T = 20$. The teams are unable to work on engines $36$, $66$, and $82$ within the planning horizon. While none of the other engines incurred any penalty costs, these three engines led to a total penalty cost of 38 for this maintenance schedule. \n",
    "\n",
    "These results are easily explainable compared to [Optimization Task 1 Part - B](#Task-1-Part-B) considering the additional _max-engine constraint_. Due to the additional constraint both teams of type $A$ and $B$ are only allowed to work on at most two engines within a planning horizon. Given a total of 4 teams, we know that at most 8 engines can be maintained regardless the length of the planning horizon. The planning horizon $T = 20$ includes 11 engines with a RUL $\\leq 20$, thus we would expect 3 engines to be unmaintained as is the case.  \n",
    "\n",
    "Furthermore, out of the 11 engines that teams could work on, engines $36$, $66$, and $82$ have the lowest penalty costs if they go completely unmaintained. Because none of the other engines incur any penalty costs, we know that we have found the optimal solution given the _max-engine constraint_.\n",
    "\n",
    "----------------\n",
    "\n"
   ]
  },
  {
   "cell_type": "markdown",
   "metadata": {},
   "source": [
    "### Optimization Task 2 - Part C <a id='Task-2-Part-C'></a>\n",
    "\n",
    "For this optimization task we are assuming a time horizon $T = 20$ and using the RUL predictions of the consultancy company. In addition to the constraints used for [Optimization Task 1](#Task-1-Part-A), we also include the _max-engine constraint_ as defined in [Optimization Task 2 - Part A](#Task-2-Part-A). Furthermore, we assume the following values for $k_h^g$: $k_{20}^A = 2$ and $ k_{20}^B = 2$. This gives the following results:"
   ]
  },
  {
   "cell_type": "markdown",
   "metadata": {},
   "source": [
    "_Maintenance schedule:_\n",
    "\n",
    "|   engine |   team | team_type   |   start_day |   end_day |   penalty_costs |\n",
    "|---------:|-------:|:------------|------------:|----------:|----------------:|\n",
    "|       34 |      1 | A           |           1 |         6 |               0 |\n",
    "|       20 |      1 | A           |           7 |        10 |               0 |\n",
    "|       35 |      2 | A           |           2 |         7 |               0 |\n",
    "|       42 |      2 | A           |           8 |        13 |               0 |\n",
    "|       81 |      3 | B           |           1 |         6 |               0 |\n",
    "|       31 |      3 | B           |           8 |        14 |               0 |\n",
    "|       76 |      4 | B           |           1 |         6 |              15 |\n",
    "|       49 |      4 | B           |           7 |        14 |               0 |\n",
    "|       56 |      - | -           |           - |         - |              18 |\n",
    "|       66 |      - | -           |           - |         - |              10 |\n",
    "|       68 |      - | -           |           - |         - |              35 |\n",
    "|       82 |      - | -           |           - |         - |              27 |"
   ]
  },
  {
   "cell_type": "markdown",
   "metadata": {},
   "source": [
    "_Total penalty costs:_ 105"
   ]
  },
  {
   "cell_type": "markdown",
   "metadata": {},
   "source": [
    "__Discussion:__\n",
    "\n",
    "Again, the _max-engine constraint_ has the same effect as seen in [Optimization Task 2 - Part B](#Task-2-Part-B). Both teams of type $A$ and type $B$ can only work on at most 2 engines within a planning horizon. Given a total of 4 teams, at most 8 engines can be maintained regardless of the lenght of the planning horizon. Since there are 12 engines with a RUL $\\leq 20$ in the consultany company's predictions, we know that at least 4 engines will be unmaintained. The results show that engines $56$, $66$, $68$, and $82$ have not been assigned to any team. On top of that, there is one engine (engine $76$) that incurs costs for being partly unmaintained at some point in throughout the planning horizon. Collectively these penalty costs total to 105 for the entire maintenance schedule.\n",
    "\n",
    "Comparing these results to the results from [Optimization Task 2 - Part B](#Task-2-Part-B), they are relatively similar. Out of the 8 engines that are maintained in both scenarios, 7 engines are overlapping: $34, 20, 35, 42, 81, 31, 76$. There are also similarities with regards to the order that engines are maintained between the schedules. For example, both schedules start work on engines $81, 34$ and $76$ on the first day.\n",
    "\n",
    "The most notable differences between the schedules relates to the predicted RUL values. For example, engine $82$ is unmaintained in both maintenance schedules. However, our predicted RUL for engine $82$ is 17, whereas the consultancy company predicts a RUL of 11 for engine $82$. As a result engine $82$ only contributes a penalty cost of 9 to the overall costs in [Optimization Task 2 - Part B](#Task-2-Part-B), whereas it contributes a penalty cost of 27 when using the consultancy company's predictions. Given smaller RUL predictions and more engines within the same planning horizon, it is to be expected that the penalty costs are higher in comparison to [Optimization Task 2 - Part B](#Task-2-Part-B).\n",
    "\n",
    "Similar to all the previous optimization tasks so far, the PuLP solver did find the optimal solution.\n",
    "\n",
    " -------------"
   ]
  },
  {
   "cell_type": "markdown",
   "metadata": {},
   "source": [
    "### Optimization Task 2 - Part D"
   ]
  },
  {
   "cell_type": "markdown",
   "metadata": {},
   "source": [
    "For this optimization task we are repeating the scenario from [Optimization Task 2 - Part C](#Task-2-Part-C) except that the planning horizion now will be $T = 25$ rather than $T = 20$.\n",
    "\n",
    "We assume $k_{h}^g$: $k_{25}^A = 2$ and $ k_{25}^B = 2$"
   ]
  },
  {
   "cell_type": "markdown",
   "metadata": {},
   "source": [
    "_Maintenance schedule:_\n",
    "\n",
    "|   engine |   team | team_type   |   start_day |   end_day |   penalty_costs |\n",
    "|---------:|-------:|:------------|------------:|----------:|----------------:|\n",
    "|       76 |      1 | A           |           1 |         5 |              10 |\n",
    "|       49 |      1 | A           |           7 |        12 |               0 |\n",
    "|       34 |      2 | A           |           1 |         6 |               0 |\n",
    "|       42 |      2 | A           |           7 |        12 |               0 |\n",
    "|       20 |      3 | B           |           3 |         7 |               0 |\n",
    "|       31 |      3 | B           |           8 |        14 |               0 |\n",
    "|       35 |      4 | B           |           1 |         8 |               0 |\n",
    "|       56 |      4 | B           |          10 |        14 |               0 |\n",
    "|       36 |      - |             |           - |         - |               7 |\n",
    "|       37 |      - |             |           - |         - |              28 |\n",
    "|       41 |      - |             |           - |         - |              18 |\n",
    "|       61 |      - |             |           - |         - |              10 |\n",
    "|       64 |      - |             |           - |         - |               5 |\n",
    "|       66 |      - |             |           - |         - |              35 |\n",
    "|       68 |      - |             |           - |         - |              60 |\n",
    "|       81 |      - |             |           - |         - |              57 |\n",
    "|       82 |      - |             |           - |         - |              42 |\n",
    "|       92 |      - |             |           - |         - |               3 |\n",
    "|      100 |      - |             |           - |         - |               3 |"
   ]
  },
  {
   "cell_type": "markdown",
   "metadata": {},
   "source": [
    "_Total penalty costs:_ 278"
   ]
  },
  {
   "cell_type": "markdown",
   "metadata": {},
   "source": [
    "__Discussion:__\n",
    "\n",
    "Similar to [Optimization Task 2 - Part B](#Task-2-Part-B) and [Optimization Task 2 - Part C](#Task-2-Part-C), the _max-engine constraint_ limits that at most 8 engines can be maintained throughout the planning horizon. It not surpising to see that the total penalty costs in this scenario are much higher in comparison to [Optimization Task 2 - Part C](#Task-2-Part-C). While the teams are still able to only work on 8 engines, the additional 5 days in the planning horizon means another 7 engines are included in the maintenance schedule. Clearly this negatively impacts the total penalty costs.\n",
    "\n",
    "As far as the engines that are maintained, both scenarios assign teams to maintain the following engines: $76, 34, 35, 20, 49, 42, 31$. Engine $56$ was not assigned in the maintenance schedule for [Optimization Task 2 - Part C](#Task-2-Part-C), but is assigned to a team when the planning horizon is extended to 25 days. While engine $56$ has the highest possible penalty cost per day ($9$), since its RUL is 18 in [Optimization Task 2 - Part C](#Task-2-Part-C) it would only incur penalty costs for two days, which was a more optimal decision than having another engine unmaintained for a longer time. However, in the current scenario there are an additional 5 days were engine $56$ would be unmaintained and thus quickly adding to the total cost given the high penalty costs per day. Hence, it makes sense that engine $56$ now is included in the maintenance schedule whereas it was not included in [Optimization Task 2 - Part C](#Task-2-Part-C). \n",
    "\n",
    "Again, the PuLP solver also found the optimal solution for this optimization problem.\n",
    "\n",
    "-------------------------"
   ]
  },
  {
   "cell_type": "markdown",
   "metadata": {},
   "source": [
    "### Optimization Task 3 - Part A <a id='Task-3-Part-A'></a>\n",
    "\n",
    "For this task, we extend the formulations of the two optimization problems defined earlier (see: [Optimization Task 1 - Part A](#Task-1-Part-A) and [Optimization Task 2 - Part A](#Task-2-Part-A)). \n",
    "\n",
    "The final constraint takes into account working conditions of the teams and the location of the engines. More specifically, every engine $j \\in \\mathscr{M}$ is located is a region $L_j \\in \\mathscr{L}$ and every team can only be assigned to jobs in a particular region. According to the *regional constraints*, a team $g \\in \\mathscr{G}$ can only work on an engine that is which is located in region $R_g \\in \\mathscr{L}$.\n",
    "\n",
    "To include this constraint in our problem formulation we define two parameters $L_j$ and $R_g$ that hold the regions of engine $j$ and team $g$ respectively.\n",
    "\n",
    "Given this definition, the _regional constraints_ can be formulated as follows:\n",
    "\n",
    "$\\sum_{t=1}^{T} X_{g,j,t} * L_j = \\sum_{t=1}^{T} X_{g,j,t} * R_g $ for all  $g \\in G, j \\in M$\n",
    "\n",
    "-------------------"
   ]
  },
  {
   "cell_type": "markdown",
   "metadata": {},
   "source": [
    "### Optimization Task 3 - Part B <a id='Task-3-Part-B'></a>\n",
    "\n",
    "For this optimization task we are assuming a time horizon $T = 20$ and using the RUL predictions from [Prediction Task - Part B](#Prediction-Task-Part-B). In addition to the constraints used for [Optimization Task 1](#Task-1-Part-A) and [Optimization Task 2](#Task-2-Part-A), we include the _regional constraints_ as defined in [Optimization Task 3 - Part A](#Task-3-Part-A). Furthermore, we assume the following values for $L_j, j \\in \\mathscr{M}$: $L_j=1, j\\in \\{1,2,...,33\\}$, and $L_j=2, j \\in \\{34, 35,...,100\\}$ and the following values for $R_g, g \\in \\mathscr{G}$: $R_g=1, g \\in \\{1, 3\\}$ and $R_g=2, g \\in \\{2, 4\\}$ This gives the following results:\n",
    "\n",
    "_Maintenance schedule:_\n",
    "\n",
    "|   engine |   team | team_type   |   start_day |   end_day |   penalty_costs |\n",
    "|---------:|-------:|:------------|------------:|----------:|----------------:|\n",
    "|       31 |      1 | A           |           1 |         6 |               0 |\n",
    "|       20 |      1 | A           |          10 |        13 |               0 |\n",
    "|       34 |      2 | A           |           1 |         6 |               0 |\n",
    "|       68 |      2 | A           |           7 |         9 |               0 |\n",
    "|       76 |      4 | B           |           1 |         6 |               0 |\n",
    "|       35 |      4 | B           |           7 |        14 |               0 |\n",
    "|       36 |    -   |             |         -   |       -   |              14 |\n",
    "|       42 |    -   |             |         -   |       -   |              36 |\n",
    "|       66 |    -   |             |         -   |       -   |              15 |\n",
    "|       81 |    -   |             |         -   |       -   |              42 |\n",
    "|       82 |    -   |             |         -   |       -   |               9 |\n",
    "\n",
    "_Total penalty costs:_ 116"
   ]
  },
  {
   "cell_type": "markdown",
   "metadata": {},
   "source": [
    "__Discussion:__\n",
    "\n",
    "The _regional constraints_ pose additional total costs to the optimal schedule. These costs can be explained through the fact that only two engines with a RUL $\\leq 20$ are located in region 1, namely $L_{20} = 1$ and $L_{31} = 1$. Also, two teams are located in region 1: $R_1 = 1$ and $R_3 = 1$. As team 1 already maintains engines 20 and 31, team 3 cannot maintain any engines in the schedule. \n",
    "\n",
    "Hence, compared to [Optimization Task 2 - Part B](#Task-2-Part-B), engine 42 and 82 will not be planned for maintenance anymore, increasing the total penalty costs with $36 + 42 = 78$.\n",
    "\n",
    "-------------------"
   ]
  },
  {
   "cell_type": "markdown",
   "metadata": {},
   "source": [
    "### Optimization Task 3 - Part C <a id='Task-3-Part-C'></a>\n",
    "\n",
    "For this optimization task we are assuming a time horizon  𝑇=20 and using the RUL predictions from the consultancy company. In addition to the constraints used for [Optimization Task 1](#Task-1-Part-A) and [Optimization Task 2](#Task-2-Part-A), we also include the _regional constraints_ as defined in [Optimization Task 3 - Part A](#Task-3-Part-A). Values for $L_j$ and $R_g$ are the same as in [Optimization Task 3 - Part B](#Task-3-Part-B). This gives the following results:\n",
    "\n",
    "_Maintenance schedule:_\n",
    "\n",
    "|   engine |   team | team_type   |   start_day |   end_day |   penalty_costs |\n",
    "|---------:|-------:|:------------|------------:|----------:|----------------:|\n",
    "|       31 |      1 | A           |           1 |         6 |               0 |\n",
    "|       34 |      2 | A           |           1 |         6 |               0 |\n",
    "|       42 |      2 | A           |           7 |        12 |               0 |\n",
    "|       20 |      3 | B           |           3 |         7 |               0 |\n",
    "|       76 |      4 | B           |           1 |         6 |              15 |\n",
    "|       49 |      4 | B           |           7 |        14 |               0 |\n",
    "|       35 |    -   |             |         -   |       -   |              84 |\n",
    "|       56 |    -   |             |         -   |       -   |              18 |\n",
    "|       66 |    -   |             |         -   |       -   |              10 |\n",
    "|       68 |    -   |             |         -   |       -   |              35 |\n",
    "|       81 |    -   |             |         -   |       -   |              42 |\n",
    "|       82 |    -   |             |         -   |       -   |              27 |\n",
    "\n",
    "_Total penalty costs:_ 231"
   ]
  },
  {
   "cell_type": "markdown",
   "metadata": {},
   "source": [
    "__Discussion:__\n",
    "\n",
    "Again, the _regional constraints_ pose additional total costs to the optimal schedule through the fact that only two engines with a RUL $\\leq 20$ and both team 1 and 3 are located in region 1. This time however, both teams 1 and 3 work on one of two engines 31 and 20 respectively. \n",
    "\n",
    "Hence, compared to [Optimization Task 2 - Part C](#Task-2-Part-C), engines 35 and 88 will not be planned for maintenance anymore, increasing the total penalty costs with $84 + 42 = 126$.\n",
    "\n",
    "-------------------"
   ]
  },
  {
   "cell_type": "markdown",
   "metadata": {},
   "source": [
    "### Optimization Task 3 - Part D <a id='Task-3-Part-D'></a>\n",
    "\n",
    "For this optimization task we are repeating the scenario from [Optimization Task 3 - Part C](#Task-3-Part-C) except that the planning horizion now will be $T = 25$ rather than $T = 20$.\n",
    "\n",
    "Again, values for $L_j$ and $R_g$ are the same as in [Optimization Task 3 - Part B](#Task-3-Part-B) and [Optimization Task 3 - Part C](#Task-3-Part-C). This gives the following results:\n",
    "\n",
    "_Maintenance schedule:_\n",
    "\n",
    "|   engine |   team | team_type   |   start_day |   end_day |   penalty_costs |\n",
    "|---------:|-------:|:------------|------------:|----------:|----------------:|\n",
    "|       20 |      1 | A           |           3 |         6 |               0 |\n",
    "|       34 |      2 | A           |           1 |         6 |               0 |\n",
    "|       42 |      2 | A           |           8 |        13 |               0 |\n",
    "|       31 |      3 | B           |           6 |        12 |               0 |\n",
    "|       35 |      4 | B           |           1 |         8 |               0 |\n",
    "|       49 |      4 | B           |           9 |        16 |              18 |\n",
    "|       36 |    -   |             |         -   |       -   |               7 |\n",
    "|       37 |    -   |             |         -   |       -   |              28 |\n",
    "|       41 |    -   |             |         -   |       -   |              18 |\n",
    "|       56 |    -   |             |         -   |       -   |              63 |\n",
    "|       61 |    -   |             |         -   |       -   |              10 |\n",
    "|       64 |    -   |             |         -   |       -   |               5 |\n",
    "|       66 |    -   |             |         -   |       -   |              35 |\n",
    "|       68 |    -   |             |         -   |       -   |              60 |\n",
    "|       76 |    -   |             |         -   |       -   |             110 |\n",
    "|       81 |    -   |             |         -   |       -   |              57 |\n",
    "|       82 |    -   |             |         -   |       -   |              42 |\n",
    "|       92 |    -   |             |         -   |       -   |               3 |\n",
    "|      100 |    -   |             |         -   |       -   |               3 |\n",
    "\n",
    "_Total penalty costs:_ 459"
   ]
  },
  {
   "cell_type": "markdown",
   "metadata": {},
   "source": [
    "Due to the increase in time horizon T, it not surpising to see that the total penalty costs in this scenario are much higher in comparison to [Optimization Task 3 - Part C](#Task-3-Part-C). Furthermore, again, the _regional constraints_ limit the maintenance performance of teams 1 and 3 to only engines 20 and 31, which contributes to the substantial increase in total penalty costs compared to [Optimization Task 2 - Part D](#Task-3-Part-D).\n",
    "\n",
    "Moreover, when we compare the results of the current optimization task to the results of [Optimization Task 3 - Part C](#Task-3-Part-C), we notice a difference in engine assignment. In [Optimization Task 3 - Part C](#Task-3-Part-C), team 4 starts working on engine 76 on day 1 and does not maintain engine 35, whereas in the current task, team 4 starts working on engine 35 on day 1 and does not maintain engine 76. For [Optimization Task 3 - Part C](#Task-3-Part-C), $Q_{35} + P_{4, 76, 1} + P_{4, 49, 7} = 99$ and $Q_{76} + P_{4, 35, 1} + P_{4, 49, 9} = 103$. Hence, it is more cost-efficient to let team 4 perform maintenance on engines 76 and 49 starting at day 1 and 7 respectively. However, for this current optimization task - due to the longer time horizon of $T = 25$ - $Q_{35} + P_{4, 76, 1} + P_{4, 49, 7} = 134$ and $Q_{76} + P_{4, 35, 1} + P_{4, 49, 9} = 128$. Thus, in this task, it is more cost-efficient to let team 4 perform maintenance on engines 35 and 49 starting at day 1 and 9 respectively. The aforementioned reasoning explains the difference in assignment between the previous task [Optimization Task 3 - Part C](#Task-3-Part-C) and the current task.\n",
    "\n",
    "-------------------"
   ]
  },
  {
   "cell_type": "markdown",
   "metadata": {},
   "source": [
    "### Optimization Task 4 <a id='Task-4'></a>\n",
    "\n",
    "__TO BE ASSIGNED__\n",
    "\n",
    "Discuss your main findings from the previous optimization tasks.\n",
    "\n",
    "Our main findings relates to the running time of the optimization problem and the schedule costs. First off, we noticed that the more constraint the optimization problem, the lower the running time associated with finding an optimal solution. This can be explained by the fact that the additonal constraints reduce the feasible search space. Furthermore, the constraints increase the total costs of the schedule by limiting the availability of the teams. \n",
    "\n",
    "consultant preidctions are more conservative than our best buddies Paulo en Jules. This is not surprising because Jules is a mastermind according to MurtleSquirtle, and he can predict anything better than you. "
   ]
  },
  {
   "cell_type": "markdown",
   "metadata": {},
   "source": [
    " \n",
    "What are the managerial insights that you can provide to company X? \n",
    "\n",
    "- Linear Model can define optimal maintenance schedule\n",
    "- However, our schedules do not include important variables as labor costs of the workers in teams and the ability for teams to travel to other regions (with additional costs). \n",
    "- basic supply and demand shizzle --> for example less teams in region 1 (e.g., only team 1) --> teams should be proportionally divided over the regions by work --> resource allocation"
   ]
  },
  {
   "cell_type": "markdown",
   "metadata": {},
   "source": [
    "What makes this maintenance allocation problem hard? \n",
    "\n",
    "- time horizon --> more variables --> larger search space\n",
    "- team only 1 engine simultaneously --> increases complexity of search space --> increased running time\n",
    "\n",
    "What are easy aspects of problem?\n",
    "\n",
    "- max engine constraints --> reduces search space\n",
    "- regional constraints --> reduces search space\n",
    "- engine can only be maintained once during the planning horizon (engines cannot fail twice within planning horizon T) --> simplifies problem overall (don't have to do new RUL predictions within the optimization process)\n",
    "\n",
    "-------------------"
   ]
  }
 ],
 "metadata": {
  "kernelspec": {
   "display_name": "Python 3",
   "language": "python",
   "name": "python3"
  },
  "language_info": {
   "codemirror_mode": {
    "name": "ipython",
    "version": 3
   },
   "file_extension": ".py",
   "mimetype": "text/x-python",
   "name": "python",
   "nbconvert_exporter": "python",
   "pygments_lexer": "ipython3",
   "version": "3.7.6"
  }
 },
 "nbformat": 4,
 "nbformat_minor": 4
}
