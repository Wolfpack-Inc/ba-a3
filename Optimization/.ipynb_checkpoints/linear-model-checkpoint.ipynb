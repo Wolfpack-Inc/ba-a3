{
 "cells": [
  {
   "cell_type": "markdown",
   "metadata": {},
   "source": [
    "### 1. Linear model"
   ]
  },
  {
   "cell_type": "markdown",
   "metadata": {},
   "source": [
    "\n",
    "#### Object function \n",
    "$min$  $Z = \\sum_{j=1}^{M} \\sum_{g=1}^{G} \\sum_{t=1}^{T} P_{g,j,t}* X_{g,j,t} + \\sum_{j=1}^{M} (( 1 - \\sum_{g=1}^{G} \\sum_{t=1}^{T} X_{g,j,t}) * O_j)$\n",
    "\n",
    "#### Decision Variable\n",
    "\\begin{equation}\n",
    "  X_{g,j,t} = \\left \\{\n",
    "  \\begin{aligned}\n",
    "    &1, && \\text{if team g starts working on engine j at day t}\\  \\\\\n",
    "    &0, && \\text{otherwise}\n",
    "  \\end{aligned} \\right.\n",
    "\\end{equation} \n",
    "\n",
    "#### Constraints \n",
    "##### Maintenance of engine j can be performed at most once during the planning period\n",
    "\n",
    "$\\sum_{g=1}^{G} \\sum_{t=1}^{T} X_{g,j,t}\\leq 1$ for all $j \\in M$\n",
    "\n",
    "##### Maintaince must be completed within the planning period\n",
    "$\\sum_{g=1}^{G} \\sum_{t=1}^{T} X_{g,j,t} * (t + \\mu_{g,j} -1) \\leq T$ for all $j \\in M$\n",
    "\n",
    "##### Teams can only work on one engine at a time\n",
    "$\\sum_{j=1}^{M} X_{g,j,t_a} * (\\sum_{t=t_a}^{min \\{ T,t + \\mu_{g,j} -1\\}} \\sum_{j=1}^{M} X_{g,j,t_a}) \\leq 1$ for all $g \\in G, t_a \\in T$"
   ]
  }
 ],
 "metadata": {
  "kernelspec": {
   "display_name": "Python 3",
   "language": "python",
   "name": "python3"
  },
  "language_info": {
   "codemirror_mode": {
    "name": "ipython",
    "version": 3
   },
   "file_extension": ".py",
   "mimetype": "text/x-python",
   "name": "python",
   "nbconvert_exporter": "python",
   "pygments_lexer": "ipython3",
   "version": "3.7.3"
  }
 },
 "nbformat": 4,
 "nbformat_minor": 2
}
