{
 "cells": [
  {
   "cell_type": "markdown",
   "metadata": {},
   "source": [
    "#### Parameters\n",
    "- The set of engines that needs maintenance is $M = {1,2,...j}$\n",
    "- The planning horizon is $T = {1,2,...,t}$\n",
    "- The available groups are $G = {1,2,..g}$\n",
    "- The number of working days of  team g on engine j is $\\mu_{g,j}$\n",
    "- Let $P_{g,j,t}$ be the penalty if team $g$ starts working on engine $j$ from day $t$\n",
    "- Let $Q_j$ be the cost of engine $j$ if the maintenance is not done during the planning horizon $T$ \n",
    "\n",
    "#### Object function \n",
    "$min$  $Z = \\sum_{j=1}^{M} \\sum_{g=1}^{G} \\sum_{t=1}^{T} P_{g,j,t}* X_{g,j,t} + \\sum_{j=1}^{M} (( 1 - \\sum_{g=1}^{G} \\sum_{t=1}^{T} X_{g,j,t}) * Q_j)$\n",
    "\n",
    "#### Decision Variable\n",
    "\\begin{equation}\n",
    "  X_{g,j,t} = \\left \\{\n",
    "  \\begin{aligned}\n",
    "    &1, && \\text{if team g starts working on engine j at day t}\\  \\\\\n",
    "    &0, && \\text{otherwise}\n",
    "  \\end{aligned} \\right.\n",
    "\\end{equation} \n",
    "\n",
    "#### Constraints \n",
    "##### Maintenance of engine j can be performed at most once during the planning period\n",
    "\n",
    "$\\sum_{g=1}^{G} \\sum_{t=1}^{T} X_{g,j,t}\\leq 1$ for all $j \\in M$\n",
    "\n",
    "##### Maintaince must be completed within the planning period\n",
    "$\\sum_{g=1}^{G} \\sum_{t=1}^{T} X_{g,j,t} * (t + \\mu_{g,j} -1) \\leq T$ for all $j \\in M$\n",
    "\n",
    "##### Teams can only work on one engine at a time\n",
    "$\\sum_{j=1}^{M} X_{g,j,t_a} * (\\sum_{t=t_a}^{min \\{ T,t + \\mu_{g,j} -1\\}} \\sum_{j=1}^{M} X_{g,j,t_a}) \\leq 1$ for all $g \\in G, t_a \\in T$"
   ]
  },
  {
   "cell_type": "markdown",
   "metadata": {},
   "source": [
    "### 1. Linear model"
   ]
  }
 ],
 "metadata": {
  "kernelspec": {
   "display_name": "Python 3",
   "language": "python",
   "name": "python3"
  },
  "language_info": {
   "codemirror_mode": {
    "name": "ipython",
    "version": 3
   },
   "file_extension": ".py",
   "mimetype": "text/x-python",
   "name": "python",
   "nbconvert_exporter": "python",
   "pygments_lexer": "ipython3",
   "version": "3.7.3"
  }
 },
 "nbformat": 4,
 "nbformat_minor": 2
}
