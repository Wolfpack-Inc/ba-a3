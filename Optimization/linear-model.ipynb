{
 "cells": [
  {
   "cell_type": "markdown",
   "metadata": {},
   "source": [
    "#### Parameters\n",
    "- The set of engines that needs maintenance is $M = {1,2,...j}$\n",
    "- The planning horizon is $T = {1,2,...,t}$\n",
    "- The available groups are $G = {1,2,..g}$\n",
    "- The number of working days of  team g on engine j is $\\mu_{g,j}$\n",
    "- Let $P_{g,j,t}$ be the penalty if team $g$ starts working on engine $j$ from day $t$\n",
    "- Let $Q_j$ be the cost of engine $j$ if the maintenance is not done during the planning horizon $T$ \n",
    "\n",
    "#### Object function \n",
    "$min$  $Z = \\sum_{j=1}^{M} \\sum_{g=1}^{G} \\sum_{t=1}^{T} P_{g,j,t}* X_{g,j,t} + \\sum_{j=1}^{M} (( 1 - \\sum_{g=1}^{G} \\sum_{t=1}^{T} X_{g,j,t}) * Q_j)$\n",
    "\n",
    "#### Decision Variable\n",
    "\\begin{equation}\n",
    "  X_{g,j,t} = \\left \\{\n",
    "  \\begin{aligned}\n",
    "    &1, && \\text{if team g starts working on engine j at day t}\\  \\\\\n",
    "    &0, && \\text{otherwise}\n",
    "  \\end{aligned} \\right.\n",
    "\\end{equation} \n",
    "\n",
    "#### Constraints \n",
    "##### Maintenance of engine j can be performed at most once during the planning period\n",
    "\n",
    "$\\sum_{g=1}^{G} \\sum_{t=1}^{T} X_{g,j,t}\\leq 1$ for all $j \\in M$\n",
    "\n",
    "##### Maintaince must be completed within the planning period\n",
    "$\\sum_{g=1}^{G} \\sum_{t=1}^{T} X_{g,j,t} * (t + \\mu_{g,j} -1) \\leq T$ for all $j \\in M$\n",
    "\n",
    "##### Teams can only work on one engine at a time\n",
    "$\\sum_{j=1}^{M} X_{g,j,t_a} * (\\sum_{t=t_a}^{min \\{ T,t + \\mu_{g,j} -1\\}} \\sum_{j=1}^{M} X_{g,j,t_a}) \\leq 1$ for all $g \\in G, t_a \\in T$"
   ]
  },
  {
   "cell_type": "markdown",
   "metadata": {},
   "source": [
    "### 1. Linear model"
   ]
  },
  {
   "cell_type": "code",
   "execution_count": 8,
   "metadata": {},
   "outputs": [],
   "source": [
    "import pandas as pd"
   ]
  },
  {
   "cell_type": "code",
   "execution_count": 14,
   "metadata": {},
   "outputs": [],
   "source": [
    "df = pd.read_csv('../data/RUL_consultancy_predictions_A3.csv', sep=';', index_col='id')"
   ]
  },
  {
   "cell_type": "code",
   "execution_count": 33,
   "metadata": {},
   "outputs": [],
   "source": [
    "M = list(df.index)\n",
    "\n",
    "G = {1: 'A',\n",
    "     2: 'A',\n",
    "     3: 'B',\n",
    "     4: 'B'}\n",
    "\n",
    "c = {i:5 for i in range(1,21)}\n",
    "c.update({i:7 for i in range(21,41)})\n",
    "c.update({i:9 for i in range(41,61)})\n",
    "c.update({i:5 for i in range(61,81)})\n",
    "c.update({i:3 for i in range(81,101)})\n",
    "\n",
    "mu_a = {i:4 for i in range(1,26)}\n",
    "mu_a.update({i:6 for i in range(26,51)})\n",
    "mu_a.update({i:3 for i in range(51,76)})\n",
    "mu_a.update({i:5 for i in range(76,101)})\n",
    "mu_b = {i:mu_a[i]+1 for i in range(1,34)}\n",
    "mu_b.update({i:mu_a[i]+2 for i in range(34,68)})\n",
    "mu_b.update({i:mu_a[i]+1 for i in range(68,101)})\n",
    "\n",
    "mu = {g: {j: mu_a[j] if typ=='A' else mu_b[j] for j in M} for g, typ in G.items()}\n",
    "\n",
    "T = 25"
   ]
  },
  {
   "cell_type": "code",
   "execution_count": 54,
   "metadata": {},
   "outputs": [],
   "source": [
    "def get_penalty(g, j, t):\n",
    "    '''\n",
    "    Calculates penalty if team g starts working on engine j at day t\n",
    "    '''\n",
    "    RUL = df.loc[j].values[0]\n",
    "    c_per_day = c[j]\n",
    "    nr_days_costs = t - RUL + mu[g][j] - 1\n",
    "\n",
    "    if nr_days_costs > 0:\n",
    "        costs = nr_days_costs * c_per_day\n",
    "        return costs\n",
    "    else:\n",
    "        return 0"
   ]
  },
  {
   "cell_type": "code",
   "execution_count": 55,
   "metadata": {},
   "outputs": [],
   "source": [
    "P = {g:{j:{t: get_penalty(g,j,t) for t in range(1, T+1)} for j in M} for g in G}"
   ]
  }
 ],
 "metadata": {
  "kernelspec": {
   "display_name": "Python 3",
   "language": "python",
   "name": "python3"
  },
  "language_info": {
   "codemirror_mode": {
    "name": "ipython",
    "version": 3
   },
   "file_extension": ".py",
   "mimetype": "text/x-python",
   "name": "python",
   "nbconvert_exporter": "python",
   "pygments_lexer": "ipython3",
   "version": "3.7.3"
  }
 },
 "nbformat": 4,
 "nbformat_minor": 2
}
