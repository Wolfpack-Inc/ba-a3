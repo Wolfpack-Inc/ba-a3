{
 "cells": [
  {
   "cell_type": "markdown",
   "metadata": {},
   "source": [
    "<br><br><br>\n",
    "# Questions\n",
    "* Should we include engine_id and cycle in our dataset?\n",
    "\n",
    "<br><br><br>"
   ]
  },
  {
   "cell_type": "markdown",
   "metadata": {},
   "source": [
    "# 1. Import data, libaries and define global variables"
   ]
  },
  {
   "cell_type": "code",
   "execution_count": 69,
   "metadata": {},
   "outputs": [],
   "source": [
    "import pandas as pd\n",
    "import numpy as np\n",
    "import os\n",
    "import pickle\n",
    "\n",
    "from sklearn.model_selection import train_test_split\n",
    "from sklearn.linear_model import LinearRegression\n",
    "\n",
    "import matplotlib.pyplot as plt"
   ]
  },
  {
   "cell_type": "code",
   "execution_count": 8,
   "metadata": {},
   "outputs": [
    {
     "name": "stdout",
     "output_type": "stream",
     "text": [
      "C:\\Users\\Paulo\\Documents\\GitHub\\business-analytics-3\\data\n"
     ]
    }
   ],
   "source": [
    "cd C:\\Users\\Paulo\\Documents\\GitHub\\business-analytics-3\\data"
   ]
  },
  {
   "cell_type": "code",
   "execution_count": 9,
   "metadata": {},
   "outputs": [],
   "source": [
    "df_training = pickle.load( open( \"df_training.pkl\", \"rb\" ) )\n",
    "df_predict  = pickle.load( open( \"df_predict.pkl\", \"rb\" ) )"
   ]
  },
  {
   "cell_type": "markdown",
   "metadata": {},
   "source": [
    "<br><br>\n",
    "# 2. Split df_training"
   ]
  },
  {
   "cell_type": "code",
   "execution_count": 23,
   "metadata": {},
   "outputs": [],
   "source": [
    "def createTrainAndTestSet(df, test_size, random_state = 1):\n",
    "    \"\"\"\n",
    "    This function splits the data into a train and test set.\n",
    "    \"\"\"\n",
    "    \n",
    "    X_train, X_test, y_train, y_test = train_test_split(df[df.columns[:-1]], \n",
    "                                                        df[df.columns[-1:]], \n",
    "                                                        test_size    = test_size, \n",
    "                                                        random_state = random_state)\n",
    "    \n",
    "    return X_train, X_test, y_train, y_test"
   ]
  },
  {
   "cell_type": "code",
   "execution_count": 32,
   "metadata": {},
   "outputs": [
    {
     "name": "stdout",
     "output_type": "stream",
     "text": [
      "X_train shape: (16504, 18)\n",
      "y_train shape: (16504, 1)\n",
      "\n",
      "\n",
      "X_test shape: (4127, 18)\n",
      "y_test shape: (4127, 1)\n"
     ]
    }
   ],
   "source": [
    "X_train, X_test, y_train, y_test = createTrainAndTestSet(df        = df_training, \n",
    "                                                         test_size = 0.20)\n",
    "\n",
    "print('{} shape: {}'.format('X_train', X_train.shape))\n",
    "print('{} shape: {}'.format('y_train', y_train.shape))\n",
    "print('\\n')\n",
    "print('{} shape: {}'.format('X_test', X_test.shape))\n",
    "print('{} shape: {}'.format('y_test', y_test.shape))"
   ]
  },
  {
   "cell_type": "code",
   "execution_count": 36,
   "metadata": {},
   "outputs": [
    {
     "data": {
      "text/html": [
       "<div>\n",
       "<style scoped>\n",
       "    .dataframe tbody tr th:only-of-type {\n",
       "        vertical-align: middle;\n",
       "    }\n",
       "\n",
       "    .dataframe tbody tr th {\n",
       "        vertical-align: top;\n",
       "    }\n",
       "\n",
       "    .dataframe thead th {\n",
       "        text-align: right;\n",
       "    }\n",
       "</style>\n",
       "<table border=\"1\" class=\"dataframe\">\n",
       "  <thead>\n",
       "    <tr style=\"text-align: right;\">\n",
       "      <th></th>\n",
       "      <th>engine_id</th>\n",
       "      <th>cycle</th>\n",
       "      <th>setting1</th>\n",
       "      <th>setting2</th>\n",
       "      <th>s2</th>\n",
       "      <th>s3</th>\n",
       "      <th>s4</th>\n",
       "      <th>s7</th>\n",
       "      <th>s8</th>\n",
       "      <th>s9</th>\n",
       "      <th>s11</th>\n",
       "      <th>s12</th>\n",
       "      <th>s13</th>\n",
       "      <th>s14</th>\n",
       "      <th>s15</th>\n",
       "      <th>s17</th>\n",
       "      <th>s20</th>\n",
       "      <th>s21</th>\n",
       "    </tr>\n",
       "  </thead>\n",
       "  <tbody>\n",
       "    <tr>\n",
       "      <th>14054</th>\n",
       "      <td>70</td>\n",
       "      <td>62</td>\n",
       "      <td>0.644125</td>\n",
       "      <td>-1.372953</td>\n",
       "      <td>-0.321841</td>\n",
       "      <td>0.286557</td>\n",
       "      <td>0.723993</td>\n",
       "      <td>0.036482</td>\n",
       "      <td>0.047171</td>\n",
       "      <td>-0.221577</td>\n",
       "      <td>-0.266467</td>\n",
       "      <td>0.225792</td>\n",
       "      <td>-0.224597</td>\n",
       "      <td>-0.135917</td>\n",
       "      <td>-0.814459</td>\n",
       "      <td>0.509675</td>\n",
       "      <td>0.684563</td>\n",
       "      <td>0.375938</td>\n",
       "    </tr>\n",
       "    <tr>\n",
       "      <th>19733</th>\n",
       "      <td>96</td>\n",
       "      <td>182</td>\n",
       "      <td>0.598406</td>\n",
       "      <td>1.698142</td>\n",
       "      <td>0.998051</td>\n",
       "      <td>0.095724</td>\n",
       "      <td>0.045133</td>\n",
       "      <td>-0.166892</td>\n",
       "      <td>-0.516338</td>\n",
       "      <td>-0.571178</td>\n",
       "      <td>-0.229025</td>\n",
       "      <td>0.157999</td>\n",
       "      <td>-0.502695</td>\n",
       "      <td>-0.326736</td>\n",
       "      <td>0.252090</td>\n",
       "      <td>0.509675</td>\n",
       "      <td>0.020633</td>\n",
       "      <td>0.064617</td>\n",
       "    </tr>\n",
       "    <tr>\n",
       "      <th>8586</th>\n",
       "      <td>44</td>\n",
       "      <td>142</td>\n",
       "      <td>-2.281909</td>\n",
       "      <td>0.333211</td>\n",
       "      <td>-0.501826</td>\n",
       "      <td>-0.259846</td>\n",
       "      <td>0.037356</td>\n",
       "      <td>-0.121698</td>\n",
       "      <td>0.610680</td>\n",
       "      <td>0.298748</td>\n",
       "      <td>0.707021</td>\n",
       "      <td>-0.262320</td>\n",
       "      <td>0.609696</td>\n",
       "      <td>0.141399</td>\n",
       "      <td>0.244091</td>\n",
       "      <td>-0.136018</td>\n",
       "      <td>0.131288</td>\n",
       "      <td>-0.499827</td>\n",
       "    </tr>\n",
       "    <tr>\n",
       "      <th>2582</th>\n",
       "      <td>13</td>\n",
       "      <td>37</td>\n",
       "      <td>-1.870436</td>\n",
       "      <td>0.674444</td>\n",
       "      <td>-0.001867</td>\n",
       "      <td>-1.295566</td>\n",
       "      <td>0.389563</td>\n",
       "      <td>0.239855</td>\n",
       "      <td>-0.516338</td>\n",
       "      <td>-0.667635</td>\n",
       "      <td>-0.229025</td>\n",
       "      <td>0.605435</td>\n",
       "      <td>-0.363646</td>\n",
       "      <td>-0.608770</td>\n",
       "      <td>-0.254521</td>\n",
       "      <td>-0.781710</td>\n",
       "      <td>-0.421986</td>\n",
       "      <td>-0.956185</td>\n",
       "    </tr>\n",
       "    <tr>\n",
       "      <th>13054</th>\n",
       "      <td>66</td>\n",
       "      <td>138</td>\n",
       "      <td>0.278371</td>\n",
       "      <td>1.356910</td>\n",
       "      <td>0.898059</td>\n",
       "      <td>0.342013</td>\n",
       "      <td>0.018468</td>\n",
       "      <td>-0.347668</td>\n",
       "      <td>0.892435</td>\n",
       "      <td>-0.201199</td>\n",
       "      <td>0.781905</td>\n",
       "      <td>-0.506376</td>\n",
       "      <td>0.887794</td>\n",
       "      <td>-0.216648</td>\n",
       "      <td>0.526726</td>\n",
       "      <td>1.155367</td>\n",
       "      <td>0.131288</td>\n",
       "      <td>-1.193602</td>\n",
       "    </tr>\n",
       "  </tbody>\n",
       "</table>\n",
       "</div>"
      ],
      "text/plain": [
       "       engine_id  cycle  setting1  setting2        s2        s3        s4  \\\n",
       "14054         70     62  0.644125 -1.372953 -0.321841  0.286557  0.723993   \n",
       "19733         96    182  0.598406  1.698142  0.998051  0.095724  0.045133   \n",
       "8586          44    142 -2.281909  0.333211 -0.501826 -0.259846  0.037356   \n",
       "2582          13     37 -1.870436  0.674444 -0.001867 -1.295566  0.389563   \n",
       "13054         66    138  0.278371  1.356910  0.898059  0.342013  0.018468   \n",
       "\n",
       "             s7        s8        s9       s11       s12       s13       s14  \\\n",
       "14054  0.036482  0.047171 -0.221577 -0.266467  0.225792 -0.224597 -0.135917   \n",
       "19733 -0.166892 -0.516338 -0.571178 -0.229025  0.157999 -0.502695 -0.326736   \n",
       "8586  -0.121698  0.610680  0.298748  0.707021 -0.262320  0.609696  0.141399   \n",
       "2582   0.239855 -0.516338 -0.667635 -0.229025  0.605435 -0.363646 -0.608770   \n",
       "13054 -0.347668  0.892435 -0.201199  0.781905 -0.506376  0.887794 -0.216648   \n",
       "\n",
       "            s15       s17       s20       s21  \n",
       "14054 -0.814459  0.509675  0.684563  0.375938  \n",
       "19733  0.252090  0.509675  0.020633  0.064617  \n",
       "8586   0.244091 -0.136018  0.131288 -0.499827  \n",
       "2582  -0.254521 -0.781710 -0.421986 -0.956185  \n",
       "13054  0.526726  1.155367  0.131288 -1.193602  "
      ]
     },
     "execution_count": 36,
     "metadata": {},
     "output_type": "execute_result"
    }
   ],
   "source": [
    "X_train.head()"
   ]
  },
  {
   "cell_type": "markdown",
   "metadata": {},
   "source": [
    "<br><br>\n",
    "# 3. Predictors"
   ]
  },
  {
   "cell_type": "code",
   "execution_count": 66,
   "metadata": {
    "scrolled": true
   },
   "outputs": [
    {
     "name": "stdout",
     "output_type": "stream",
     "text": [
      "R2 score: 0.6664733576174661. \n",
      "\n",
      "Coefficients:\n"
     ]
    },
    {
     "data": {
      "text/html": [
       "<div>\n",
       "<style scoped>\n",
       "    .dataframe tbody tr th:only-of-type {\n",
       "        vertical-align: middle;\n",
       "    }\n",
       "\n",
       "    .dataframe tbody tr th {\n",
       "        vertical-align: top;\n",
       "    }\n",
       "\n",
       "    .dataframe thead th {\n",
       "        text-align: right;\n",
       "    }\n",
       "</style>\n",
       "<table border=\"1\" class=\"dataframe\">\n",
       "  <thead>\n",
       "    <tr style=\"text-align: right;\">\n",
       "      <th></th>\n",
       "      <th>Coefficients</th>\n",
       "    </tr>\n",
       "  </thead>\n",
       "  <tbody>\n",
       "    <tr>\n",
       "      <th>engine_id</th>\n",
       "      <td>0.286353</td>\n",
       "    </tr>\n",
       "    <tr>\n",
       "      <th>cycle</th>\n",
       "      <td>-0.417279</td>\n",
       "    </tr>\n",
       "    <tr>\n",
       "      <th>setting1</th>\n",
       "      <td>0.071531</td>\n",
       "    </tr>\n",
       "    <tr>\n",
       "      <th>setting2</th>\n",
       "      <td>0.665072</td>\n",
       "    </tr>\n",
       "    <tr>\n",
       "      <th>s2</th>\n",
       "      <td>-2.846815</td>\n",
       "    </tr>\n",
       "    <tr>\n",
       "      <th>s3</th>\n",
       "      <td>-1.437814</td>\n",
       "    </tr>\n",
       "    <tr>\n",
       "      <th>s4</th>\n",
       "      <td>-4.633318</td>\n",
       "    </tr>\n",
       "    <tr>\n",
       "      <th>s7</th>\n",
       "      <td>3.366926</td>\n",
       "    </tr>\n",
       "    <tr>\n",
       "      <th>s8</th>\n",
       "      <td>-1.938865</td>\n",
       "    </tr>\n",
       "    <tr>\n",
       "      <th>s9</th>\n",
       "      <td>-4.802952</td>\n",
       "    </tr>\n",
       "    <tr>\n",
       "      <th>s11</th>\n",
       "      <td>-6.504551</td>\n",
       "    </tr>\n",
       "    <tr>\n",
       "      <th>s12</th>\n",
       "      <td>3.832176</td>\n",
       "    </tr>\n",
       "    <tr>\n",
       "      <th>s13</th>\n",
       "      <td>-1.246846</td>\n",
       "    </tr>\n",
       "    <tr>\n",
       "      <th>s14</th>\n",
       "      <td>-0.575508</td>\n",
       "    </tr>\n",
       "    <tr>\n",
       "      <th>s15</th>\n",
       "      <td>-2.755156</td>\n",
       "    </tr>\n",
       "    <tr>\n",
       "      <th>s17</th>\n",
       "      <td>-1.461283</td>\n",
       "    </tr>\n",
       "    <tr>\n",
       "      <th>s20</th>\n",
       "      <td>1.794065</td>\n",
       "    </tr>\n",
       "    <tr>\n",
       "      <th>s21</th>\n",
       "      <td>2.383583</td>\n",
       "    </tr>\n",
       "  </tbody>\n",
       "</table>\n",
       "</div>"
      ],
      "text/plain": [
       "           Coefficients\n",
       "engine_id      0.286353\n",
       "cycle         -0.417279\n",
       "setting1       0.071531\n",
       "setting2       0.665072\n",
       "s2            -2.846815\n",
       "s3            -1.437814\n",
       "s4            -4.633318\n",
       "s7             3.366926\n",
       "s8            -1.938865\n",
       "s9            -4.802952\n",
       "s11           -6.504551\n",
       "s12            3.832176\n",
       "s13           -1.246846\n",
       "s14           -0.575508\n",
       "s15           -2.755156\n",
       "s17           -1.461283\n",
       "s20            1.794065\n",
       "s21            2.383583"
      ]
     },
     "metadata": {},
     "output_type": "display_data"
    }
   ],
   "source": [
    "# Define LinearRegression and fit it to our X_train, and y_train data\n",
    "reg = LinearRegression()\n",
    "reg.fit(X = X_train, y = y_train)\n",
    "\n",
    "# Print out MAE, R2 and RMSE\n",
    "#### FILL IN ####\n",
    "print('R2 score: {}. \\n'.format(reg.score(X = X_train, y = y_train)))\n",
    "\n",
    "# Print out coefficients\n",
    "coefDataFrame = pd.DataFrame(reg.coef_[0], X_train.columns, columns=['Coefficients'])\n",
    "print('Coefficients:')\n",
    "display(coefDataFrame)\n",
    "\n",
    "# Plot the results"
   ]
  },
  {
   "cell_type": "code",
   "execution_count": 96,
   "metadata": {},
   "outputs": [
    {
     "data": {
      "image/png": "[encoded data removed]",
      "text/plain": [
       "<Figure size 432x288 with 1 Axes>"
      ]
     },
     "metadata": {
      "needs_background": "light"
     },
     "output_type": "display_data"
    }
   ],
   "source": [
    "# Error in training data\n",
    "train_pred = reg.predict(X_train)\n",
    "train_diff = train_pred - y_train\n",
    "\n",
    "# Error in test data\n",
    "test_pred  = reg.predict(X_test)\n",
    "test_diff  = test_pred  - y_test\n",
    "\n",
    "# Plot the predictions\n",
    "plt.scatter(train_pred, train_diff, color = 'blue', label = 'Train data')\n",
    "plt.scatter(test_pred, test_diff, color = 'green', label = 'Test data')\n",
    "plt.legend(loc = 'upper right') \n",
    "plt.show()"
   ]
  },
  {
   "cell_type": "code",
   "execution_count": null,
   "metadata": {},
   "outputs": [],
   "source": []
  },
  {
   "cell_type": "code",
   "execution_count": null,
   "metadata": {},
   "outputs": [],
   "source": []
  },
  {
   "cell_type": "code",
   "execution_count": null,
   "metadata": {},
   "outputs": [],
   "source": []
  },
  {
   "cell_type": "code",
   "execution_count": null,
   "metadata": {},
   "outputs": [],
   "source": []
  },
  {
   "cell_type": "code",
   "execution_count": null,
   "metadata": {},
   "outputs": [],
   "source": []
  }
 ],
 "metadata": {
  "kernelspec": {
   "display_name": "Python 3",
   "language": "python",
   "name": "python3"
  },
  "language_info": {
   "codemirror_mode": {
    "name": "ipython",
    "version": 3
   },
   "file_extension": ".py",
   "mimetype": "text/x-python",
   "name": "python",
   "nbconvert_exporter": "python",
   "pygments_lexer": "ipython3",
   "version": "3.7.6"
  }
 },
 "nbformat": 4,
 "nbformat_minor": 4
}
